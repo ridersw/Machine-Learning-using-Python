{
  "nbformat": 4,
  "nbformat_minor": 0,
  "metadata": {
    "colab": {
      "provenance": []
    },
    "kernelspec": {
      "name": "python3",
      "display_name": "Python 3"
    },
    "language_info": {
      "name": "python"
    }
  },
  "cells": [
    {
      "cell_type": "code",
      "execution_count": 44,
      "metadata": {
        "id": "mdOBUqpWVH1C"
      },
      "outputs": [],
      "source": [
        "import tensorflow as tf\n",
        "from matplotlib import pyplot as plt\n",
        "import pandas as pd\n",
        "import numpy as np\n",
        "\n",
        "# pd.options.display.max_rows = 10\n",
        "# pd.options.display.float_format = \"{:.1f}\".format"
      ]
    },
    {
      "cell_type": "code",
      "source": [
        "train_df = pd.read_csv(\"https://download.mlcc.google.com/mledu-datasets/california_housing_train.csv\")\n",
        "test_df = pd.read_csv(\"https://download.mlcc.google.com/mledu-datasets/california_housing_test.csv\")"
      ],
      "metadata": {
        "id": "vAlvZ7GlVjir"
      },
      "execution_count": 37,
      "outputs": []
    },
    {
      "cell_type": "code",
      "source": [
        "shuffled_train_data = train_df.reindex(np.random.permutation(train_df.index))\n",
        "test_df.head"
      ],
      "metadata": {
        "colab": {
          "base_uri": "https://localhost:8080/"
        },
        "id": "_L2XAtnyVy5U",
        "outputId": "cab810c8-8dc8-41a3-ecca-65398bb2630f"
      },
      "execution_count": 45,
      "outputs": [
        {
          "output_type": "execute_result",
          "data": {
            "text/plain": [
              "<bound method NDFrame.head of       longitude  latitude  housing_median_age  total_rooms  total_bedrooms  \\\n",
              "0        -122.0      37.4                27.0       3885.0           661.0   \n",
              "1        -118.3      34.3                43.0       1510.0           310.0   \n",
              "2        -117.8      33.8                27.0       3589.0           507.0   \n",
              "3        -118.4      33.8                28.0         67.0            15.0   \n",
              "4        -119.7      36.3                19.0       1241.0           244.0   \n",
              "...         ...       ...                 ...          ...             ...   \n",
              "2995     -119.9      34.4                23.0       1450.0           642.0   \n",
              "2996     -118.1      34.1                27.0       5257.0          1082.0   \n",
              "2997     -119.7      36.3                10.0        956.0           201.0   \n",
              "2998     -117.1      34.1                40.0         96.0            14.0   \n",
              "2999     -119.6      34.4                42.0       1765.0           263.0   \n",
              "\n",
              "      population  households  median_income  median_house_value  \n",
              "0         1537.0       606.0            6.6               344.7  \n",
              "1          809.0       277.0            3.6               176.5  \n",
              "2         1484.0       495.0            5.8               270.5  \n",
              "3           49.0        11.0            6.1               330.0  \n",
              "4          850.0       237.0            2.9                81.7  \n",
              "...          ...         ...            ...                 ...  \n",
              "2995      1258.0       607.0            1.2               225.0  \n",
              "2996      3496.0      1036.0            3.4               237.2  \n",
              "2997       693.0       220.0            2.3                62.0  \n",
              "2998        46.0        14.0            3.3               162.5  \n",
              "2999       753.0       260.0            8.6               500.0  \n",
              "\n",
              "[3000 rows x 9 columns]>"
            ]
          },
          "metadata": {},
          "execution_count": 45
        }
      ]
    },
    {
      "cell_type": "code",
      "source": [
        "train_df[\"median_house_value\"] /= 1000.0\n",
        "test_df[\"median_house_value\"] /= 1000.0"
      ],
      "metadata": {
        "id": "LKpO8HPjV5al"
      },
      "execution_count": 39,
      "outputs": []
    },
    {
      "cell_type": "code",
      "source": [
        "def build_model(my_learning_rate):\n",
        "  #initialize the model\n",
        "\n",
        "  model = tf.keras.models.Sequential()\n",
        "\n",
        "  #define its topography nodes and layers\n",
        "\n",
        "  model.add(tf.keras.layers.Dense(units = 1, input_shape = (1, )))\n",
        "\n",
        "  #compile the model\n",
        "\n",
        "  model.compile(optimizer = tf.keras.optimizers.RMSprop(lr = my_learning_rate), \n",
        "                loss = \"mean_squared_error\", \n",
        "                metrics = [tf.keras.metrics.RootMeanSquaredError()])\n",
        "  \n",
        "  return model\n",
        "\n",
        "def train_model(model, train_df, feature, label, batch_size, epochs, validation_split):\n",
        "  history = model.fit(x = train_df[feature],\n",
        "                      y = train_df[label],\n",
        "                      batch_size = batch_size,\n",
        "                      epochs = epochs, \n",
        "                      validation_split = validation_split)\n",
        "  \n",
        "  trained_weights = model.get_weights()[0]\n",
        "  trained_bias = model.get_weights()[1]\n",
        "\n",
        "  epochs = history.epoch\n",
        "  \n",
        "  hist = pd.DataFrame(history.history)\n",
        "  rmse = hist[\"root_mean_squared_error\"]\n",
        "\n",
        "  return epochs, hist, rmse\n",
        "\n",
        "\n"
      ],
      "metadata": {
        "id": "8hSz141NWAUk"
      },
      "execution_count": 40,
      "outputs": []
    },
    {
      "cell_type": "code",
      "source": [
        "#mae: Mean Absolute Error\n",
        "def plot_the_lost_curve(epochs, mae_training, mae_validation):\n",
        "  plt.figure()\n",
        "  plt.xlabel(\"Epochs\")\n",
        "  plt.ylabel(\"Loss\")\n",
        "\n",
        "  plt.plot(epochs[1:], mae_training[1:], label = \"Training loss\")\n",
        "  plt.plot(epochs[1:], mae_validation[1:], label = \"Validation loss\")\n",
        "  plt.legend()\n",
        "\n",
        "  "
      ],
      "metadata": {
        "id": "QOrRxf86YGDK"
      },
      "execution_count": 41,
      "outputs": []
    },
    {
      "cell_type": "code",
      "source": [
        "my_learning_rate = 0.05\n",
        "batch_size = 100\n",
        "epochs = 50 \n",
        "validation_split = 0.2\n",
        "\n",
        "feature = \"median_income\"\n",
        "label = \"median_house_value\"\n",
        "\n",
        "my_model = build_model(my_learning_rate)\n",
        "epochs, hist, rmse = train_model(my_model, shuffled_train_data, feature, label, batch_size, epochs, validation_split)\n",
        "\n",
        "plot_the_lost_curve(epochs, hist['root_mean_squared_error'], hist['val_root_mean_squared_error'])"
      ],
      "metadata": {
        "colab": {
          "base_uri": "https://localhost:8080/",
          "height": 1000
        },
        "id": "TKtTpGxzY1r1",
        "outputId": "5fe15aae-c646-4af3-89d4-d22583f21032"
      },
      "execution_count": 46,
      "outputs": [
        {
          "output_type": "stream",
          "name": "stdout",
          "text": [
            "Epoch 1/50\n"
          ]
        },
        {
          "output_type": "stream",
          "name": "stderr",
          "text": [
            "/usr/local/lib/python3.8/dist-packages/keras/optimizers/optimizer_v2/rmsprop.py:135: UserWarning: The `lr` argument is deprecated, use `learning_rate` instead.\n",
            "  super(RMSprop, self).__init__(name, **kwargs)\n"
          ]
        },
        {
          "output_type": "stream",
          "name": "stdout",
          "text": [
            "136/136 [==============================] - 1s 3ms/step - loss: 46928.7773 - root_mean_squared_error: 216.6305 - val_loss: 40458.4766 - val_root_mean_squared_error: 201.1429\n",
            "Epoch 2/50\n",
            "136/136 [==============================] - 0s 2ms/step - loss: 34131.7773 - root_mean_squared_error: 184.7479 - val_loss: 28933.0918 - val_root_mean_squared_error: 170.0973\n",
            "Epoch 3/50\n",
            "136/136 [==============================] - 0s 2ms/step - loss: 23873.5879 - root_mean_squared_error: 154.5108 - val_loss: 19858.1836 - val_root_mean_squared_error: 140.9191\n",
            "Epoch 4/50\n",
            "136/136 [==============================] - 0s 2ms/step - loss: 16097.0986 - root_mean_squared_error: 126.8743 - val_loss: 13262.2090 - val_root_mean_squared_error: 115.1617\n",
            "Epoch 5/50\n",
            "136/136 [==============================] - 0s 2ms/step - loss: 10774.7646 - root_mean_squared_error: 103.8016 - val_loss: 9144.3506 - val_root_mean_squared_error: 95.6261\n",
            "Epoch 6/50\n",
            "136/136 [==============================] - 0s 2ms/step - loss: 7844.3955 - root_mean_squared_error: 88.5686 - val_loss: 7383.6865 - val_root_mean_squared_error: 85.9284\n",
            "Epoch 7/50\n",
            "136/136 [==============================] - 0s 2ms/step - loss: 6995.2407 - root_mean_squared_error: 83.6376 - val_loss: 7200.4229 - val_root_mean_squared_error: 84.8553\n",
            "Epoch 8/50\n",
            "136/136 [==============================] - 0s 2ms/step - loss: 6968.4707 - root_mean_squared_error: 83.4774 - val_loss: 7200.3140 - val_root_mean_squared_error: 84.8547\n",
            "Epoch 9/50\n",
            "136/136 [==============================] - 0s 2ms/step - loss: 6968.3887 - root_mean_squared_error: 83.4769 - val_loss: 7200.5527 - val_root_mean_squared_error: 84.8561\n",
            "Epoch 10/50\n",
            "136/136 [==============================] - 0s 2ms/step - loss: 6967.7471 - root_mean_squared_error: 83.4730 - val_loss: 7200.3325 - val_root_mean_squared_error: 84.8548\n",
            "Epoch 11/50\n",
            "136/136 [==============================] - 0s 2ms/step - loss: 6968.2236 - root_mean_squared_error: 83.4759 - val_loss: 7199.8271 - val_root_mean_squared_error: 84.8518\n",
            "Epoch 12/50\n",
            "136/136 [==============================] - 0s 2ms/step - loss: 6968.5249 - root_mean_squared_error: 83.4777 - val_loss: 7199.6812 - val_root_mean_squared_error: 84.8509\n",
            "Epoch 13/50\n",
            "136/136 [==============================] - 0s 2ms/step - loss: 6967.7383 - root_mean_squared_error: 83.4730 - val_loss: 7199.5396 - val_root_mean_squared_error: 84.8501\n",
            "Epoch 14/50\n",
            "136/136 [==============================] - 0s 2ms/step - loss: 6968.3584 - root_mean_squared_error: 83.4767 - val_loss: 7199.2568 - val_root_mean_squared_error: 84.8484\n",
            "Epoch 15/50\n",
            "136/136 [==============================] - 0s 2ms/step - loss: 6967.8730 - root_mean_squared_error: 83.4738 - val_loss: 7199.2935 - val_root_mean_squared_error: 84.8486\n",
            "Epoch 16/50\n",
            "136/136 [==============================] - 0s 2ms/step - loss: 6967.8276 - root_mean_squared_error: 83.4735 - val_loss: 7199.7021 - val_root_mean_squared_error: 84.8511\n",
            "Epoch 17/50\n",
            "136/136 [==============================] - 0s 2ms/step - loss: 6968.0220 - root_mean_squared_error: 83.4747 - val_loss: 7199.2881 - val_root_mean_squared_error: 84.8486\n",
            "Epoch 18/50\n",
            "136/136 [==============================] - 0s 2ms/step - loss: 6968.1851 - root_mean_squared_error: 83.4757 - val_loss: 7199.0254 - val_root_mean_squared_error: 84.8471\n",
            "Epoch 19/50\n",
            "136/136 [==============================] - 0s 2ms/step - loss: 6967.8354 - root_mean_squared_error: 83.4736 - val_loss: 7199.5229 - val_root_mean_squared_error: 84.8500\n",
            "Epoch 20/50\n",
            "136/136 [==============================] - 0s 2ms/step - loss: 6967.9546 - root_mean_squared_error: 83.4743 - val_loss: 7199.0083 - val_root_mean_squared_error: 84.8470\n",
            "Epoch 21/50\n",
            "136/136 [==============================] - 0s 2ms/step - loss: 6967.3735 - root_mean_squared_error: 83.4708 - val_loss: 7199.2388 - val_root_mean_squared_error: 84.8483\n",
            "Epoch 22/50\n",
            "136/136 [==============================] - 0s 2ms/step - loss: 6967.9565 - root_mean_squared_error: 83.4743 - val_loss: 7199.1025 - val_root_mean_squared_error: 84.8475\n",
            "Epoch 23/50\n",
            "136/136 [==============================] - 0s 2ms/step - loss: 6967.3604 - root_mean_squared_error: 83.4707 - val_loss: 7199.3848 - val_root_mean_squared_error: 84.8492\n",
            "Epoch 24/50\n",
            "136/136 [==============================] - 0s 2ms/step - loss: 6967.2935 - root_mean_squared_error: 83.4703 - val_loss: 7198.8447 - val_root_mean_squared_error: 84.8460\n",
            "Epoch 25/50\n",
            "136/136 [==============================] - 0s 2ms/step - loss: 6968.2964 - root_mean_squared_error: 83.4763 - val_loss: 7198.7925 - val_root_mean_squared_error: 84.8457\n",
            "Epoch 26/50\n",
            "136/136 [==============================] - 0s 2ms/step - loss: 6967.8960 - root_mean_squared_error: 83.4739 - val_loss: 7199.0430 - val_root_mean_squared_error: 84.8472\n",
            "Epoch 27/50\n",
            "136/136 [==============================] - 0s 2ms/step - loss: 6967.0664 - root_mean_squared_error: 83.4690 - val_loss: 7199.7388 - val_root_mean_squared_error: 84.8513\n",
            "Epoch 28/50\n",
            "136/136 [==============================] - 0s 2ms/step - loss: 6967.6846 - root_mean_squared_error: 83.4727 - val_loss: 7199.3237 - val_root_mean_squared_error: 84.8488\n",
            "Epoch 29/50\n",
            "136/136 [==============================] - 0s 2ms/step - loss: 6967.7871 - root_mean_squared_error: 83.4733 - val_loss: 7199.1045 - val_root_mean_squared_error: 84.8475\n",
            "Epoch 30/50\n",
            "136/136 [==============================] - 0s 2ms/step - loss: 6967.9023 - root_mean_squared_error: 83.4740 - val_loss: 7198.6646 - val_root_mean_squared_error: 84.8449\n",
            "Epoch 31/50\n",
            "136/136 [==============================] - 0s 2ms/step - loss: 6967.7441 - root_mean_squared_error: 83.4730 - val_loss: 7200.0269 - val_root_mean_squared_error: 84.8530\n",
            "Epoch 32/50\n",
            "136/136 [==============================] - 0s 3ms/step - loss: 6968.2090 - root_mean_squared_error: 83.4758 - val_loss: 7198.7007 - val_root_mean_squared_error: 84.8452\n",
            "Epoch 33/50\n",
            "136/136 [==============================] - 0s 2ms/step - loss: 6967.1104 - root_mean_squared_error: 83.4692 - val_loss: 7200.0854 - val_root_mean_squared_error: 84.8533\n",
            "Epoch 34/50\n",
            "136/136 [==============================] - 0s 2ms/step - loss: 6968.2266 - root_mean_squared_error: 83.4759 - val_loss: 7199.0220 - val_root_mean_squared_error: 84.8471\n",
            "Epoch 35/50\n",
            "136/136 [==============================] - 0s 2ms/step - loss: 6968.2534 - root_mean_squared_error: 83.4761 - val_loss: 7198.7388 - val_root_mean_squared_error: 84.8454\n",
            "Epoch 36/50\n",
            "136/136 [==============================] - 0s 2ms/step - loss: 6967.7017 - root_mean_squared_error: 83.4728 - val_loss: 7198.6763 - val_root_mean_squared_error: 84.8450\n",
            "Epoch 37/50\n",
            "136/136 [==============================] - 0s 2ms/step - loss: 6966.9868 - root_mean_squared_error: 83.4685 - val_loss: 7198.6577 - val_root_mean_squared_error: 84.8449\n",
            "Epoch 38/50\n",
            "136/136 [==============================] - 0s 2ms/step - loss: 6967.3667 - root_mean_squared_error: 83.4708 - val_loss: 7198.9946 - val_root_mean_squared_error: 84.8469\n",
            "Epoch 39/50\n",
            "136/136 [==============================] - 0s 2ms/step - loss: 6967.9751 - root_mean_squared_error: 83.4744 - val_loss: 7198.8149 - val_root_mean_squared_error: 84.8458\n",
            "Epoch 40/50\n",
            "136/136 [==============================] - 0s 2ms/step - loss: 6967.7046 - root_mean_squared_error: 83.4728 - val_loss: 7199.1230 - val_root_mean_squared_error: 84.8476\n",
            "Epoch 41/50\n",
            "136/136 [==============================] - 0s 2ms/step - loss: 6967.4160 - root_mean_squared_error: 83.4710 - val_loss: 7199.7666 - val_root_mean_squared_error: 84.8514\n",
            "Epoch 42/50\n",
            "136/136 [==============================] - 0s 2ms/step - loss: 6967.8110 - root_mean_squared_error: 83.4734 - val_loss: 7200.1978 - val_root_mean_squared_error: 84.8540\n",
            "Epoch 43/50\n",
            "136/136 [==============================] - 0s 2ms/step - loss: 6967.7764 - root_mean_squared_error: 83.4732 - val_loss: 7198.5713 - val_root_mean_squared_error: 84.8444\n",
            "Epoch 44/50\n",
            "136/136 [==============================] - 0s 2ms/step - loss: 6967.8901 - root_mean_squared_error: 83.4739 - val_loss: 7198.6323 - val_root_mean_squared_error: 84.8448\n",
            "Epoch 45/50\n",
            "136/136 [==============================] - 0s 2ms/step - loss: 6967.6787 - root_mean_squared_error: 83.4726 - val_loss: 7198.6885 - val_root_mean_squared_error: 84.8451\n",
            "Epoch 46/50\n",
            "136/136 [==============================] - 0s 2ms/step - loss: 6966.6714 - root_mean_squared_error: 83.4666 - val_loss: 7201.8540 - val_root_mean_squared_error: 84.8637\n",
            "Epoch 47/50\n",
            "136/136 [==============================] - 0s 2ms/step - loss: 6965.9116 - root_mean_squared_error: 83.4620 - val_loss: 7199.6816 - val_root_mean_squared_error: 84.8509\n",
            "Epoch 48/50\n",
            "136/136 [==============================] - 1s 9ms/step - loss: 6967.9453 - root_mean_squared_error: 83.4742 - val_loss: 7199.3823 - val_root_mean_squared_error: 84.8492\n",
            "Epoch 49/50\n",
            "136/136 [==============================] - 1s 7ms/step - loss: 6967.8936 - root_mean_squared_error: 83.4739 - val_loss: 7199.1074 - val_root_mean_squared_error: 84.8476\n",
            "Epoch 50/50\n",
            "136/136 [==============================] - 1s 6ms/step - loss: 6968.0195 - root_mean_squared_error: 83.4747 - val_loss: 7198.7539 - val_root_mean_squared_error: 84.8455\n"
          ]
        },
        {
          "output_type": "display_data",
          "data": {
            "text/plain": [
              "<Figure size 432x288 with 1 Axes>"
            ],
            "image/png": "[encoded data removed]"
          },
          "metadata": {
            "needs_background": "light"
          }
        }
      ]
    },
    {
      "cell_type": "code",
      "source": [
        "#Evaluate the model\n",
        "\n",
        "x_test = test_df[feature]\n",
        "y_test = test_df[label]\n",
        "\n",
        "results = my_model.evaluate(x_test, y_test, batch_size = batch_size)\n",
        "\n",
        "print(f'Loss: {results[0]}')\n",
        "print(f'Accuracy: {results[1]}')"
      ],
      "metadata": {
        "colab": {
          "base_uri": "https://localhost:8080/"
        },
        "id": "LXn7OGqHdPOU",
        "outputId": "1913d56d-462a-4f2e-a6e3-3dd352f0d807"
      },
      "execution_count": 53,
      "outputs": [
        {
          "output_type": "stream",
          "name": "stdout",
          "text": [
            "30/30 [==============================] - 0s 12ms/step - loss: 7011.8965 - root_mean_squared_error: 83.7371\n",
            "Loss: 7011.896484375\n",
            "Accuracy: 83.73706817626953\n"
          ]
        }
      ]
    }
  ]
}